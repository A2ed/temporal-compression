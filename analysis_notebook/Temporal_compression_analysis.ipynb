{
 "cells": [
  {
   "cell_type": "markdown",
   "metadata": {},
   "source": [
    "# Temporal Compression Study"
   ]
  },
  {
   "cell_type": "markdown",
   "metadata": {},
   "source": [
    "##Overview"
   ]
  },
  {
   "cell_type": "markdown",
   "metadata": {},
   "source": [
    "This study investigates the relationship between multiple spatial and phenomenological variables on how people simulate movement through a recently learned virtual city. Specifically, we're interested in whether temporal information derived from previous experiences is contained in predictive mental simulations. We identified three primary research questions and evaluate them across two studies.\n",
    "\n",
    "**Research Q1:** Is temporal information from memories recapitulated during mental simulations? If so, is it preserved based on previous experiences (1:1 ratio), or is it temporally compressed similar to predictive place cell dynamics in the rodent hippocampus?\n",
    "\n",
    "**Research Q2:** Is the degree of temporal compression static, or adaptive to accomodate changes in the speed of exposure to visual stimuli during encoding?\n",
    "\n",
    "**Research Q3:** Does the fidelity of a mental simulation relate to the ability to make predictions off it?"
   ]
  },
  {
   "cell_type": "code",
   "execution_count": 1,
   "metadata": {
    "collapsed": false
   },
   "outputs": [
    {
     "name": "stdout",
     "output_type": "stream",
     "text": [
      "Using matplotlib backend: MacOSX\n",
      "Populating the interactive namespace from numpy and matplotlib\n"
     ]
    }
   ],
   "source": [
    "#import libraries for data analysis\n",
    "%pylab\n",
    "import pandas as pd\n",
    "import seaborn as sns\n",
    "from scipy import stats\n",
    "import numpy as np\n",
    "import statsmodels.api as sm\n",
    "import statsmodels.formula.api as smf\n",
    "from PIL import Image\n",
    "\n",
    "#set graph options\n",
    "%matplotlib inline\n",
    "sns.set_context('talk')\n",
    "sns.set_style('darkgrid')"
   ]
  },
  {
   "cell_type": "markdown",
   "metadata": {},
   "source": [
    "##1. Study 1"
   ]
  },
  {
   "cell_type": "markdown",
   "metadata": {},
   "source": [
    "This study uses a base movement speed of 6 virtual m/s in Unity3D."
   ]
  },
  {
   "cell_type": "markdown",
   "metadata": {},
   "source": [
    "###1.1 Import and Format Matrix"
   ]
  },
  {
   "cell_type": "code",
   "execution_count": 2,
   "metadata": {
    "collapsed": false,
    "scrolled": true
   },
   "outputs": [],
   "source": [
    "# import performance data\n",
    "import_p_data = pd.read_csv('medium_performance.csv', index_col = 0)\n",
    "\n",
    "# clone for data manipulation\n",
    "p_data = import_p_data\n",
    "\n",
    "# format dataframe index\n",
    "range_list = list(range(0,len(p_data)))\n",
    "p_data = p_data.set_index([range_list])"
   ]
  },
  {
   "cell_type": "markdown",
   "metadata": {},
   "source": [
    "###1.2 Filtering Lost Trials"
   ]
  },
  {
   "cell_type": "markdown",
   "metadata": {},
   "source": [
    "We will filter our data using two common methods and observe how the distribution looks. First, we'll remove the routes in the top quartile of difference scores. Second, we'll remove only routes that are more than 3 standard deviations from the mean difference scores. Before then, let's calculate the differences between the recorded path times for each trial and their optimal time. Using difference scores let's leaves us unbiased against filtering out longer paths that would necessitate longer path times."
   ]
  },
  {
   "cell_type": "markdown",
   "metadata": {},
   "source": [
    "####1.2.1 Difference Scores"
   ]
  },
  {
   "cell_type": "markdown",
   "metadata": {},
   "source": [
    "In order to filter trials, we want to isolate trails which are the most likely candidates for ones in which the participant got lost. To do this, we'll calculate a new variable that codes the difference between the observed route time and the optimal route time. This will remove variance in route time due to the length of the route (some routes are longer than others) and allow us to focus on just the excess time over and above the base time needed to navigate a route."
   ]
  },
  {
   "cell_type": "code",
   "execution_count": 3,
   "metadata": {
    "collapsed": false
   },
   "outputs": [
    {
     "name": "stdout",
     "output_type": "stream",
     "text": [
      "The mean optimal route time is 24.853\n"
     ]
    }
   ],
   "source": [
    "# load optimal route times\n",
    "opt = pd.read_csv('Optimal.csv')\n",
    "print \"The mean optimal route time is {}\".format(opt['Optimal'].mean())"
   ]
  },
  {
   "cell_type": "code",
   "execution_count": 4,
   "metadata": {
    "collapsed": false
   },
   "outputs": [],
   "source": [
    "# clone optimal route time vector\n",
    "opt_temp = opt\n",
    "\n",
    "# clone vector for each participant\n",
    "counter = len(p_data['Participant'].unique())\n",
    "\n",
    "# expand optimal vector to match length of p_data\n",
    "while counter > 1:\n",
    "    opt = opt.append(opt_temp)\n",
    "    counter = counter -1\n",
    "    \n",
    "# reformat optimal index\n",
    "ind_list = list(range(0,len(p_data)))\n",
    "opt = opt.set_index([ind_list])\n",
    "\n",
    "# join dataframes\n",
    "p_data = p_data.join(opt)\n",
    "\n",
    "# calculate new vector containing difference between path time and optimal time\n",
    "p_data['Diff'] = np.NaN\n",
    "\n",
    "for i in ind_list:\n",
    "    p_data.loc[i, 'Diff'] = p_data.loc[i, 'Path_Time'] - p_data.loc[i, 'Optimal']"
   ]
  },
  {
   "cell_type": "markdown",
   "metadata": {},
   "source": [
    "Now let's summarize the distribution of difference scores."
   ]
  },
  {
   "cell_type": "code",
   "execution_count": 5,
   "metadata": {
    "collapsed": false
   },
   "outputs": [
    {
     "name": "stdout",
     "output_type": "stream",
     "text": [
      "count    280.000000\n",
      "mean      23.395358\n",
      "std       38.130426\n",
      "min        3.719600\n",
      "25%        9.283330\n",
      "50%       12.762850\n",
      "75%       21.660375\n",
      "max      463.742600\n",
      "Name: Diff, dtype: float64\n"
     ]
    },
    {
     "data": {
      "image/png": "[encoded data removed]",
      "text/plain": [
       "<matplotlib.figure.Figure at 0x10890db50>"
      ]
     },
     "metadata": {},
     "output_type": "display_data"
    }
   ],
   "source": [
    "print(p_data.Diff.describe())\n",
    "sns.distplot(p_data.Diff.dropna(), kde=False, bins=20);"
   ]
  },
  {
   "cell_type": "markdown",
   "metadata": {},
   "source": [
    "#### Figure 1. Distribution of difference scores"
   ]
  },
  {
   "cell_type": "markdown",
   "metadata": {},
   "source": [
    "From this histogram, it is evident that most trails are under 20 seconds with some greatly exceeding this."
   ]
  },
  {
   "cell_type": "markdown",
   "metadata": {},
   "source": [
    "####1.2.2 Top Quartile Filter"
   ]
  },
  {
   "cell_type": "markdown",
   "metadata": {},
   "source": [
    "First, we're going to remove the top quartile, which means any trial with a difference score that exceeds 14.95 seconds."
   ]
  },
  {
   "cell_type": "code",
   "execution_count": 6,
   "metadata": {
    "collapsed": true
   },
   "outputs": [],
   "source": [
    "# clone p_data for manipulation\n",
    "d75 = p_data.copy()\n",
    "\n",
    "# remove trials with differences above the 75% cut off\n",
    "cutoff = d75.Diff.quantile(.75)\n",
    "columns = list(d75.columns.values)\n",
    "\n",
    "for c in columns:\n",
    "    for i, r in d75.iterrows():\n",
    "        if r[d75.columns.get_loc('Diff')] > cutoff:\n",
    "            d75.loc[i, c] = np.NaN   "
   ]
  },
  {
   "cell_type": "markdown",
   "metadata": {},
   "source": [
    "####1.2.3 Three Standard Deviations Filter"
   ]
  },
  {
   "cell_type": "markdown",
   "metadata": {},
   "source": [
    "Next, we're going to remove all trials that exceed 3 standard deviations on the difference scores. Note that this is a much more conservative filter as it only removes trials with difference scores greater than 58.48 seconds, which is approximately double what the mean optimal route time is (i.e. these trails took 3 times as long as they should to navigate)."
   ]
  },
  {
   "cell_type": "code",
   "execution_count": 7,
   "metadata": {
    "collapsed": true
   },
   "outputs": [],
   "source": [
    "# clone p_data for manipulation\n",
    "d3 = p_data.copy()\n",
    "\n",
    "# remove trials with differences above the 3 standard deviation cut off\n",
    "cutoff = d3.Diff.std()*3\n",
    "columns = list(d3.columns.values)\n",
    "\n",
    "for c in columns:\n",
    "    for i, r in d3.iterrows():\n",
    "        if r[d3.columns.get_loc('Diff')] > cutoff:\n",
    "            d3.loc[i, c] = np.NaN  "
   ]
  },
  {
   "cell_type": "markdown",
   "metadata": {},
   "source": [
    "####1.2.4 Comparison of filters"
   ]
  },
  {
   "cell_type": "markdown",
   "metadata": {},
   "source": [
    "We can now compare the remaining data between filter strategies."
   ]
  },
  {
   "cell_type": "code",
   "execution_count": 8,
   "metadata": {
    "collapsed": false
   },
   "outputs": [
    {
     "data": {
      "text/plain": [
       "<matplotlib.text.Text at 0x108ee8990>"
      ]
     },
     "execution_count": 8,
     "metadata": {},
     "output_type": "execute_result"
    },
    {
     "data": {
      "image/png": "[encoded data removed]",
      "text/plain": [
       "<matplotlib.figure.Figure at 0x1089759d0>"
      ]
     },
     "metadata": {},
     "output_type": "display_data"
    }
   ],
   "source": [
    "# plot data after filtering the top 25% difference values\n",
    "plt.subplot(121)\n",
    "sns.distplot(d75.Diff.dropna(), kde=False, bins=20)\n",
    "plt.xlabel('Difference Score')\n",
    "plt.ylabel('Frequency')\n",
    "plt.title('75% Cutoff')\n",
    "# plot data after filtering any difference score over 3 standard deviations\n",
    "plt.subplot(122)\n",
    "sns.distplot(d3.Diff.dropna(), kde=False, bins=20)\n",
    "plt.xlabel('Difference Score')\n",
    "plt.title('3 Std Deviations')"
   ]
  },
  {
   "cell_type": "markdown",
   "metadata": {},
   "source": [
    "####Figure 2. Comparison of difference scores after filtering"
   ]
  },
  {
   "cell_type": "markdown",
   "metadata": {},
   "source": [
    "From these plots, we can see that the 3 standard deviation filter leaves a number of trials with differences scores >40 seconds, which is over twice as long as each trial should take on average. Because of this, we'll use the 75% filter, but will also compare our statistics to the 3 standard deviation filter."
   ]
  },
  {
   "cell_type": "markdown",
   "metadata": {},
   "source": [
    "###1.3 Descriptive Statistics"
   ]
  },
  {
   "cell_type": "markdown",
   "metadata": {},
   "source": [
    "####1.3.1 Demographic Information"
   ]
  },
  {
   "cell_type": "markdown",
   "metadata": {},
   "source": [
    "This section provides a summary of the demographic information we collected prior to the experiment."
   ]
  },
  {
   "cell_type": "code",
   "execution_count": 9,
   "metadata": {
    "collapsed": false
   },
   "outputs": [
    {
     "data": {
      "text/html": [
       "<div>\n",
       "<table border=\"1\" class=\"dataframe\">\n",
       "  <thead>\n",
       "    <tr style=\"text-align: right;\">\n",
       "      <th></th>\n",
       "      <th>Age</th>\n",
       "      <th>Education</th>\n",
       "      <th>V_week</th>\n",
       "      <th>V_age</th>\n",
       "      <th>SBSOD</th>\n",
       "    </tr>\n",
       "  </thead>\n",
       "  <tbody>\n",
       "    <tr>\n",
       "      <th>count</th>\n",
       "      <td>28.00</td>\n",
       "      <td>28.00</td>\n",
       "      <td>28.00</td>\n",
       "      <td>28.00</td>\n",
       "      <td>28.0</td>\n",
       "    </tr>\n",
       "    <tr>\n",
       "      <th>mean</th>\n",
       "      <td>19.64</td>\n",
       "      <td>13.79</td>\n",
       "      <td>4.16</td>\n",
       "      <td>7.89</td>\n",
       "      <td>4.8</td>\n",
       "    </tr>\n",
       "    <tr>\n",
       "      <th>std</th>\n",
       "      <td>1.87</td>\n",
       "      <td>1.57</td>\n",
       "      <td>7.93</td>\n",
       "      <td>3.53</td>\n",
       "      <td>0.9</td>\n",
       "    </tr>\n",
       "    <tr>\n",
       "      <th>min</th>\n",
       "      <td>15.00</td>\n",
       "      <td>12.00</td>\n",
       "      <td>0.00</td>\n",
       "      <td>0.00</td>\n",
       "      <td>3.0</td>\n",
       "    </tr>\n",
       "    <tr>\n",
       "      <th>25%</th>\n",
       "      <td>18.00</td>\n",
       "      <td>12.00</td>\n",
       "      <td>0.00</td>\n",
       "      <td>6.00</td>\n",
       "      <td>4.0</td>\n",
       "    </tr>\n",
       "    <tr>\n",
       "      <th>50%</th>\n",
       "      <td>19.50</td>\n",
       "      <td>14.00</td>\n",
       "      <td>0.75</td>\n",
       "      <td>8.00</td>\n",
       "      <td>5.0</td>\n",
       "    </tr>\n",
       "    <tr>\n",
       "      <th>75%</th>\n",
       "      <td>20.25</td>\n",
       "      <td>15.00</td>\n",
       "      <td>6.00</td>\n",
       "      <td>10.00</td>\n",
       "      <td>5.5</td>\n",
       "    </tr>\n",
       "    <tr>\n",
       "      <th>max</th>\n",
       "      <td>24.00</td>\n",
       "      <td>17.00</td>\n",
       "      <td>40.00</td>\n",
       "      <td>16.00</td>\n",
       "      <td>6.5</td>\n",
       "    </tr>\n",
       "  </tbody>\n",
       "</table>\n",
       "</div>"
      ],
      "text/plain": [
       "         Age  Education  V_week  V_age  SBSOD\n",
       "count  28.00      28.00   28.00  28.00   28.0\n",
       "mean   19.64      13.79    4.16   7.89    4.8\n",
       "std     1.87       1.57    7.93   3.53    0.9\n",
       "min    15.00      12.00    0.00   0.00    3.0\n",
       "25%    18.00      12.00    0.00   6.00    4.0\n",
       "50%    19.50      14.00    0.75   8.00    5.0\n",
       "75%    20.25      15.00    6.00  10.00    5.5\n",
       "max    24.00      17.00   40.00  16.00    6.5"
      ]
     },
     "execution_count": 9,
     "metadata": {},
     "output_type": "execute_result"
    }
   ],
   "source": [
    "# import demographic data\n",
    "import_d_data = pd.read_csv('medium_survey.csv')\n",
    "\n",
    "# select relevant data\n",
    "dem_data = import_d_data.loc[:,:'SBSOD']\n",
    "\n",
    "# summarize demographic data\n",
    "dem_summary = np.round(dem_data.describe(), decimals = 2)\n",
    "\n",
    "# create table\n",
    "dem_summary"
   ]
  },
  {
   "cell_type": "markdown",
   "metadata": {},
   "source": [
    "####Table 1. Descriptive stats for demographics"
   ]
  },
  {
   "cell_type": "markdown",
   "metadata": {},
   "source": [
    "Education is calculated as high school (12) plus post secondary. V_week denotes hours spent playing video games per week. V_age denotes age the participant first started playing video games. SBSOD stands for the Santa Barbara Sense of Direction Scale (Hegarty et al., 2002)."
   ]
  },
  {
   "cell_type": "markdown",
   "metadata": {},
   "source": [
    "####1.3.2 Task Performance"
   ]
  },
  {
   "cell_type": "markdown",
   "metadata": {},
   "source": [
    "In this section, variables measuring different aspects of performance on the simulation phase of the experiment are summarized."
   ]
  },
  {
   "cell_type": "code",
   "execution_count": 10,
   "metadata": {
    "collapsed": false
   },
   "outputs": [
    {
     "data": {
      "text/html": [
       "<div>\n",
       "<table border=\"1\" class=\"dataframe\">\n",
       "  <thead>\n",
       "    <tr style=\"text-align: right;\">\n",
       "      <th></th>\n",
       "      <th>Path_Time</th>\n",
       "      <th>Distance</th>\n",
       "      <th>RT</th>\n",
       "      <th>Sim_Time</th>\n",
       "    </tr>\n",
       "  </thead>\n",
       "  <tbody>\n",
       "    <tr>\n",
       "      <th>count</th>\n",
       "      <td>210.00</td>\n",
       "      <td>210.00</td>\n",
       "      <td>190.00</td>\n",
       "      <td>210.00</td>\n",
       "    </tr>\n",
       "    <tr>\n",
       "      <th>mean</th>\n",
       "      <td>35.81</td>\n",
       "      <td>189.91</td>\n",
       "      <td>3.34</td>\n",
       "      <td>14.41</td>\n",
       "    </tr>\n",
       "    <tr>\n",
       "      <th>std</th>\n",
       "      <td>9.25</td>\n",
       "      <td>55.52</td>\n",
       "      <td>1.54</td>\n",
       "      <td>11.21</td>\n",
       "    </tr>\n",
       "    <tr>\n",
       "      <th>min</th>\n",
       "      <td>20.92</td>\n",
       "      <td>117.77</td>\n",
       "      <td>1.24</td>\n",
       "      <td>0.02</td>\n",
       "    </tr>\n",
       "    <tr>\n",
       "      <th>25%</th>\n",
       "      <td>28.17</td>\n",
       "      <td>140.47</td>\n",
       "      <td>2.35</td>\n",
       "      <td>6.29</td>\n",
       "    </tr>\n",
       "    <tr>\n",
       "      <th>50%</th>\n",
       "      <td>34.11</td>\n",
       "      <td>176.47</td>\n",
       "      <td>2.94</td>\n",
       "      <td>10.35</td>\n",
       "    </tr>\n",
       "    <tr>\n",
       "      <th>75%</th>\n",
       "      <td>41.05</td>\n",
       "      <td>223.63</td>\n",
       "      <td>3.90</td>\n",
       "      <td>19.72</td>\n",
       "    </tr>\n",
       "    <tr>\n",
       "      <th>max</th>\n",
       "      <td>58.92</td>\n",
       "      <td>324.59</td>\n",
       "      <td>10.62</td>\n",
       "      <td>55.23</td>\n",
       "    </tr>\n",
       "  </tbody>\n",
       "</table>\n",
       "</div>"
      ],
      "text/plain": [
       "       Path_Time  Distance      RT  Sim_Time\n",
       "count     210.00    210.00  190.00    210.00\n",
       "mean       35.81    189.91    3.34     14.41\n",
       "std         9.25     55.52    1.54     11.21\n",
       "min        20.92    117.77    1.24      0.02\n",
       "25%        28.17    140.47    2.35      6.29\n",
       "50%        34.11    176.47    2.94     10.35\n",
       "75%        41.05    223.63    3.90     19.72\n",
       "max        58.92    324.59   10.62     55.23"
      ]
     },
     "execution_count": 10,
     "metadata": {},
     "output_type": "execute_result"
    }
   ],
   "source": [
    "# create new dataframe for task variables\n",
    "t_data = d75.loc[:, 'Path_Time':'Sim_Time']\n",
    "\n",
    "# summarize simulation data\n",
    "t_summary = np.round(t_data.describe(), decimals = 2)\n",
    "\n",
    "# create table\n",
    "t_summary"
   ]
  },
  {
   "cell_type": "markdown",
   "metadata": {},
   "source": [
    "####Table 2. Descriptive statistics for performance variables"
   ]
  },
  {
   "cell_type": "markdown",
   "metadata": {},
   "source": [
    "These data are from 10 routes navigated by each participant. Sim Time denotes the amount of time they took to simulate the route."
   ]
  },
  {
   "cell_type": "markdown",
   "metadata": {},
   "source": [
    "Next, we look at the qualitative variables that were measured during the post-simulation questionnaire."
   ]
  },
  {
   "cell_type": "markdown",
   "metadata": {},
   "source": [
    "####1.3.3 Simulation Variables"
   ]
  },
  {
   "cell_type": "code",
   "execution_count": 11,
   "metadata": {
    "collapsed": false
   },
   "outputs": [
    {
     "data": {
      "text/html": [
       "<div>\n",
       "<table border=\"1\" class=\"dataframe\">\n",
       "  <thead>\n",
       "    <tr style=\"text-align: right;\">\n",
       "      <th></th>\n",
       "      <th>Vividness</th>\n",
       "      <th>S_coherence</th>\n",
       "      <th>T_coherence</th>\n",
       "      <th>Fract</th>\n",
       "      <th>Coherence</th>\n",
       "      <th>Length</th>\n",
       "      <th>S_mem</th>\n",
       "      <th>G_mem</th>\n",
       "      <th>Optimal</th>\n",
       "      <th>Diff</th>\n",
       "    </tr>\n",
       "  </thead>\n",
       "  <tbody>\n",
       "    <tr>\n",
       "      <th>count</th>\n",
       "      <td>210.00</td>\n",
       "      <td>210.00</td>\n",
       "      <td>210.00</td>\n",
       "      <td>210.00</td>\n",
       "      <td>210.00</td>\n",
       "      <td>210.00</td>\n",
       "      <td>210.00</td>\n",
       "      <td>210.00</td>\n",
       "      <td>210.00</td>\n",
       "      <td>210.00</td>\n",
       "    </tr>\n",
       "    <tr>\n",
       "      <th>mean</th>\n",
       "      <td>3.78</td>\n",
       "      <td>3.51</td>\n",
       "      <td>3.49</td>\n",
       "      <td>3.63</td>\n",
       "      <td>3.57</td>\n",
       "      <td>2.62</td>\n",
       "      <td>4.46</td>\n",
       "      <td>4.32</td>\n",
       "      <td>24.25</td>\n",
       "      <td>11.56</td>\n",
       "    </tr>\n",
       "    <tr>\n",
       "      <th>std</th>\n",
       "      <td>1.05</td>\n",
       "      <td>1.33</td>\n",
       "      <td>1.20</td>\n",
       "      <td>0.97</td>\n",
       "      <td>0.92</td>\n",
       "      <td>1.29</td>\n",
       "      <td>0.97</td>\n",
       "      <td>1.06</td>\n",
       "      <td>6.31</td>\n",
       "      <td>4.47</td>\n",
       "    </tr>\n",
       "    <tr>\n",
       "      <th>min</th>\n",
       "      <td>1.00</td>\n",
       "      <td>1.00</td>\n",
       "      <td>1.00</td>\n",
       "      <td>1.00</td>\n",
       "      <td>1.00</td>\n",
       "      <td>1.00</td>\n",
       "      <td>1.00</td>\n",
       "      <td>1.00</td>\n",
       "      <td>17.20</td>\n",
       "      <td>3.72</td>\n",
       "    </tr>\n",
       "    <tr>\n",
       "      <th>25%</th>\n",
       "      <td>3.33</td>\n",
       "      <td>3.00</td>\n",
       "      <td>2.25</td>\n",
       "      <td>3.00</td>\n",
       "      <td>3.00</td>\n",
       "      <td>1.00</td>\n",
       "      <td>4.00</td>\n",
       "      <td>4.00</td>\n",
       "      <td>19.15</td>\n",
       "      <td>8.03</td>\n",
       "    </tr>\n",
       "    <tr>\n",
       "      <th>50%</th>\n",
       "      <td>4.00</td>\n",
       "      <td>4.00</td>\n",
       "      <td>4.00</td>\n",
       "      <td>3.50</td>\n",
       "      <td>3.50</td>\n",
       "      <td>3.00</td>\n",
       "      <td>5.00</td>\n",
       "      <td>5.00</td>\n",
       "      <td>21.80</td>\n",
       "      <td>10.65</td>\n",
       "    </tr>\n",
       "    <tr>\n",
       "      <th>75%</th>\n",
       "      <td>4.63</td>\n",
       "      <td>5.00</td>\n",
       "      <td>4.00</td>\n",
       "      <td>4.50</td>\n",
       "      <td>4.25</td>\n",
       "      <td>4.00</td>\n",
       "      <td>5.00</td>\n",
       "      <td>5.00</td>\n",
       "      <td>31.20</td>\n",
       "      <td>14.57</td>\n",
       "    </tr>\n",
       "    <tr>\n",
       "      <th>max</th>\n",
       "      <td>5.00</td>\n",
       "      <td>5.00</td>\n",
       "      <td>5.00</td>\n",
       "      <td>5.00</td>\n",
       "      <td>5.00</td>\n",
       "      <td>5.00</td>\n",
       "      <td>5.00</td>\n",
       "      <td>5.00</td>\n",
       "      <td>37.72</td>\n",
       "      <td>21.63</td>\n",
       "    </tr>\n",
       "  </tbody>\n",
       "</table>\n",
       "</div>"
      ],
      "text/plain": [
       "       Vividness  S_coherence  T_coherence   Fract  Coherence  Length   S_mem  \\\n",
       "count     210.00       210.00       210.00  210.00     210.00  210.00  210.00   \n",
       "mean        3.78         3.51         3.49    3.63       3.57    2.62    4.46   \n",
       "std         1.05         1.33         1.20    0.97       0.92    1.29    0.97   \n",
       "min         1.00         1.00         1.00    1.00       1.00    1.00    1.00   \n",
       "25%         3.33         3.00         2.25    3.00       3.00    1.00    4.00   \n",
       "50%         4.00         4.00         4.00    3.50       3.50    3.00    5.00   \n",
       "75%         4.63         5.00         4.00    4.50       4.25    4.00    5.00   \n",
       "max         5.00         5.00         5.00    5.00       5.00    5.00    5.00   \n",
       "\n",
       "        G_mem  Optimal    Diff  \n",
       "count  210.00   210.00  210.00  \n",
       "mean     4.32    24.25   11.56  \n",
       "std      1.06     6.31    4.47  \n",
       "min      1.00    17.20    3.72  \n",
       "25%      4.00    19.15    8.03  \n",
       "50%      5.00    21.80   10.65  \n",
       "75%      5.00    31.20   14.57  \n",
       "max      5.00    37.72   21.63  "
      ]
     },
     "execution_count": 11,
     "metadata": {},
     "output_type": "execute_result"
    }
   ],
   "source": [
    "# select relevant columns\n",
    "s_data = d75.loc[:, 'Vividness':]\n",
    "\n",
    "# summarize simulation data\n",
    "s_summary = np.round(s_data.describe(), decimals = 2)\n",
    "\n",
    "# create table\n",
    "s_summary"
   ]
  },
  {
   "cell_type": "markdown",
   "metadata": {},
   "source": [
    "#### Table 3. Descriptive statistics for simulation variables"
   ]
  },
  {
   "cell_type": "markdown",
   "metadata": {},
   "source": [
    "These are calculated by combining the rating (1-5 likert scale) on different questions into categories. High scores (5) indicates this category was well represented in the simulation.\n",
    "\n",
    "* S_coherence = spatial coherence\n",
    "* T_coherence = temporal coherence\n",
    "* Fract = fluidity of simulation (i.e. like a movie or a series of pictures)\n",
    "* Coherence = general coherence\n",
    "* S_mem = memory of starting location\n",
    "* G_mem = memory of goal location"
   ]
  },
  {
   "cell_type": "markdown",
   "metadata": {},
   "source": [
    "###1.4 Mean Centering Simulation Time"
   ]
  },
  {
   "cell_type": "markdown",
   "metadata": {},
   "source": [
    "Before the data is further analyzed, it is important to mean-center the simulation times for each participant. The reason for this is that we can then work with trial-by-trail variance in simulation time that is not biased by between subject differences in simulation time."
   ]
  },
  {
   "cell_type": "code",
   "execution_count": 12,
   "metadata": {
    "collapsed": false
   },
   "outputs": [],
   "source": [
    "# function to mean center data into a new vector\n",
    "def mean_center(matrix):    \n",
    "    \n",
    "    # create new column for mean centered sim times\n",
    "    matrix['Sim_Centered'] = np.NaN\n",
    "\n",
    "    # create a list of subject IDs\n",
    "    sub_list = list(matrix['Participant'].unique())\n",
    "\n",
    "    # ignore NaN columns\n",
    "    del sub_list[sub_list.index(nan)]\n",
    "\n",
    "    # loop through subjects\n",
    "    for i in sub_list:\n",
    "\n",
    "        # calculate subject mean of sim time by getting each participant's data individually and calculating the mean\n",
    "        sub = matrix.groupby(['Participant']).get_group(i)\n",
    "        mean = sub.loc[:, 'Sim_Time'].mean()\n",
    "\n",
    "        # replace sim centered NaN with sim time value minus the mean\n",
    "        for ind, row in matrix.iterrows():\n",
    "            if row[matrix.columns.get_loc('Participant')] == i:\n",
    "                matrix.loc[ind, 'Sim_Centered'] = row[matrix.columns.get_loc('Sim_Time')] - mean\n",
    "\n",
    "# mean center data\n",
    "mean_center(d75)"
   ]
  },
  {
   "cell_type": "markdown",
   "metadata": {},
   "source": [
    "Next, let's compare the relationship between both the observed and mean-centered simulation times with path time"
   ]
  },
  {
   "cell_type": "code",
   "execution_count": 13,
   "metadata": {
    "collapsed": false
   },
   "outputs": [
    {
     "data": {
      "text/plain": [
       "<matplotlib.text.Text at 0x10925d7d0>"
      ]
     },
     "execution_count": 13,
     "metadata": {},
     "output_type": "execute_result"
    },
    {
     "data": {
      "image/png": "[encoded data removed]",
      "text/plain": [
       "<matplotlib.figure.Figure at 0x108ad97d0>"
      ]
     },
     "metadata": {},
     "output_type": "display_data"
    },
    {
     "data": {
      "image/png": "[encoded data removed]",
      "text/plain": [
       "<matplotlib.figure.Figure at 0x1092072d0>"
      ]
     },
     "metadata": {},
     "output_type": "display_data"
    }
   ],
   "source": [
    "sns.lmplot(\"Path_Time\", \"Sim_Time\", d75)\n",
    "plt.title(\"Observed\")\n",
    "sns.lmplot(\"Path_Time\", \"Sim_Centered\", d75)\n",
    "plt.title(\"Mean Centered\")"
   ]
  },
  {
   "cell_type": "markdown",
   "metadata": {},
   "source": [
    "####Figure 3. Comparison of observed and mean centered simulation times"
   ]
  },
  {
   "cell_type": "markdown",
   "metadata": {},
   "source": [
    "Evident in these plots is that there are trails in which participants are taking much longer to navigate a route than would be expected if they had properly navigated. To quantify this, we calculated the optimal route time by having the lead author navigate each path using the quickest shortcuts three times, and taking the fastest time for each route. We can now calculate what the mean optimal time is."
   ]
  },
  {
   "cell_type": "markdown",
   "metadata": {},
   "source": [
    "From this we can observe that there are numerous trials where the participant took 2-3x the optimal path time, indicating that they got lost during the route. In the next section, we'll use two different strategies to deal with these lost trials."
   ]
  },
  {
   "cell_type": "markdown",
   "metadata": {},
   "source": [
    "###1.5 Temporal Compression Rate"
   ]
  },
  {
   "cell_type": "markdown",
   "metadata": {},
   "source": [
    "In this section we'll calculate the rate of temporal compression for each route. Here, we need to use the original simulation and route times for each trial to get an estimate of how much each simulation has been temporally compressed. We'll do this by taking the ratio of simulation time to path time."
   ]
  },
  {
   "cell_type": "code",
   "execution_count": 14,
   "metadata": {
    "collapsed": false
   },
   "outputs": [
    {
     "name": "stdout",
     "output_type": "stream",
     "text": [
      "The temporal compression factor for the 75% filter is 0.418.\n",
      "The temporal compression factor for the 3 std dev filter is 0.368.\n"
     ]
    }
   ],
   "source": [
    "# calculate temporal compression factor for the 75% filter\n",
    "t_fact = d75.loc[:, 'Sim_Time'] / d75.loc[:, 'Path_Time']\n",
    "print('The temporal compression factor for the 75% filter is {}.'.format(np.round(t_fact.mean(), 3)))\n",
    "\n",
    "# calculate temporal compression factor for the 3 standard deviation filter\n",
    "t_fact_std = d3.loc[:, 'Sim_Time'] / d3.loc[:, 'Path_Time']\n",
    "print('The temporal compression factor for the 3 std dev filter is {}.'.format(np.round(t_fact_std.mean(), 3)))"
   ]
  },
  {
   "cell_type": "markdown",
   "metadata": {},
   "source": [
    "As we can see, the compression rate doesn't vary that much between the two filtering strategies. It also supports our first hypothesis that mental simulations are temporally compressed at a ~2.5x rate compared to the time needed to subsequently navigate the route. "
   ]
  },
  {
   "cell_type": "markdown",
   "metadata": {},
   "source": [
    "##2. Study Two - Manipulating Movement Speeds"
   ]
  },
  {
   "cell_type": "markdown",
   "metadata": {},
   "source": [
    "In this study, we change the movement speed during the encoding phases to see if the rate at which visual stimuli is experienced interacts with the temporal compression rate. This addresses our second research question about whether the temporal compression rate is constant or adaptive. We introduced two new encoding speed movement conditions: a slow condition (4 virtual m/s) and a fast condition (8 virtual m/s). \n",
    "\n",
    "**Note that the movement speed was only changed for the encoding phase and not the simulation phase.** As such, no correction for path time is needed in the data."
   ]
  },
  {
   "cell_type": "markdown",
   "metadata": {},
   "source": [
    "###2.1 Import and Format Matrix"
   ]
  },
  {
   "cell_type": "markdown",
   "metadata": {},
   "source": [
    "####2.1.1 Slow Movement Condition"
   ]
  },
  {
   "cell_type": "code",
   "execution_count": null,
   "metadata": {
    "collapsed": true
   },
   "outputs": [],
   "source": [
    "# import performance data\n",
    "import_p_data_slow = pd.read_csv('slow_performance.csv', index_col = 0)\n",
    "\n",
    "# clone for data manipulation\n",
    "p_data_slow = import_p_data_slow\n",
    "\n",
    "# format dataframe index\n",
    "range_list = list(range(0,len(p_data_slow)))\n",
    "p_data_slow = p_data_slow.set_index([range_list])\n",
    "\n",
    "# remove two trials that have simulation times less than zero that resulted from measurement error\n",
    "for i,r in p_data_slow.iterrows():\n",
    "    if r['Sim_Time'] < 0:\n",
    "        p_data_slow.loc[i,:] = np.NaN"
   ]
  },
  {
   "cell_type": "markdown",
   "metadata": {},
   "source": [
    "####2.1.2 Fast Movement Condition"
   ]
  },
  {
   "cell_type": "code",
   "execution_count": 16,
   "metadata": {
    "collapsed": false
   },
   "outputs": [],
   "source": [
    "# import performance data\n",
    "import_p_data_fast = pd.read_csv('fast_performance.csv', index_col = 0)\n",
    "\n",
    "# clone for data manipulation\n",
    "p_data_fast = import_p_data_fast\n",
    "\n",
    "# format dataframe index\n",
    "range_list = list(range(0,len(p_data_fast)))\n",
    "p_data_fast = p_data_fast.set_index([range_list])\n",
    "\n",
    "# remove two trials that have simulation times less than zero that resulted from measurement error\n",
    "for i,r in p_data_fast.iterrows():\n",
    "    if r['Sim_Time'] < 0:\n",
    "        p_data_fast.loc[i,:] = np.NaN"
   ]
  },
  {
   "cell_type": "markdown",
   "metadata": {},
   "source": [
    "###2.2. Demographics"
   ]
  },
  {
   "cell_type": "markdown",
   "metadata": {},
   "source": [
    "####2.2.1 Slow Movement Condition"
   ]
  },
  {
   "cell_type": "code",
   "execution_count": 17,
   "metadata": {
    "collapsed": false
   },
   "outputs": [
    {
     "data": {
      "text/html": [
       "<div>\n",
       "<table border=\"1\" class=\"dataframe\">\n",
       "  <thead>\n",
       "    <tr style=\"text-align: right;\">\n",
       "      <th></th>\n",
       "      <th>Age</th>\n",
       "      <th>Education</th>\n",
       "      <th>V_week</th>\n",
       "      <th>V_age</th>\n",
       "      <th>SBSOD</th>\n",
       "    </tr>\n",
       "  </thead>\n",
       "  <tbody>\n",
       "    <tr>\n",
       "      <th>count</th>\n",
       "      <td>26.00</td>\n",
       "      <td>26.00</td>\n",
       "      <td>26.00</td>\n",
       "      <td>26.00</td>\n",
       "      <td>2.600000e+01</td>\n",
       "    </tr>\n",
       "    <tr>\n",
       "      <th>mean</th>\n",
       "      <td>20.19</td>\n",
       "      <td>12.73</td>\n",
       "      <td>3.81</td>\n",
       "      <td>7.15</td>\n",
       "      <td>2.553371e+13</td>\n",
       "    </tr>\n",
       "    <tr>\n",
       "      <th>std</th>\n",
       "      <td>1.58</td>\n",
       "      <td>3.76</td>\n",
       "      <td>6.17</td>\n",
       "      <td>3.79</td>\n",
       "      <td>9.339038e+12</td>\n",
       "    </tr>\n",
       "    <tr>\n",
       "      <th>min</th>\n",
       "      <td>18.00</td>\n",
       "      <td>3.00</td>\n",
       "      <td>0.00</td>\n",
       "      <td>0.00</td>\n",
       "      <td>9.698512e+12</td>\n",
       "    </tr>\n",
       "    <tr>\n",
       "      <th>25%</th>\n",
       "      <td>19.00</td>\n",
       "      <td>12.00</td>\n",
       "      <td>0.00</td>\n",
       "      <td>5.00</td>\n",
       "      <td>1.801400e+13</td>\n",
       "    </tr>\n",
       "    <tr>\n",
       "      <th>50%</th>\n",
       "      <td>20.00</td>\n",
       "      <td>14.00</td>\n",
       "      <td>0.50</td>\n",
       "      <td>6.50</td>\n",
       "      <td>2.362733e+13</td>\n",
       "    </tr>\n",
       "    <tr>\n",
       "      <th>75%</th>\n",
       "      <td>21.75</td>\n",
       "      <td>14.75</td>\n",
       "      <td>6.50</td>\n",
       "      <td>10.00</td>\n",
       "      <td>3.083066e+13</td>\n",
       "    </tr>\n",
       "    <tr>\n",
       "      <th>max</th>\n",
       "      <td>23.00</td>\n",
       "      <td>17.00</td>\n",
       "      <td>25.00</td>\n",
       "      <td>14.00</td>\n",
       "      <td>4.911185e+13</td>\n",
       "    </tr>\n",
       "  </tbody>\n",
       "</table>\n",
       "</div>"
      ],
      "text/plain": [
       "         Age  Education  V_week  V_age         SBSOD\n",
       "count  26.00      26.00   26.00  26.00  2.600000e+01\n",
       "mean   20.19      12.73    3.81   7.15  2.553371e+13\n",
       "std     1.58       3.76    6.17   3.79  9.339038e+12\n",
       "min    18.00       3.00    0.00   0.00  9.698512e+12\n",
       "25%    19.00      12.00    0.00   5.00  1.801400e+13\n",
       "50%    20.00      14.00    0.50   6.50  2.362733e+13\n",
       "75%    21.75      14.75    6.50  10.00  3.083066e+13\n",
       "max    23.00      17.00   25.00  14.00  4.911185e+13"
      ]
     },
     "execution_count": 17,
     "metadata": {},
     "output_type": "execute_result"
    }
   ],
   "source": [
    "# import demographic data\n",
    "import_d_data_slow = pd.read_csv('slow_survey.csv')\n",
    "\n",
    "# select relevant data\n",
    "dem_data_slow = import_d_data_slow.loc[:,:'SBSOD']\n",
    "\n",
    "# summarize demographic data\n",
    "dem_summary_slow = np.round(dem_data_slow.describe(), decimals = 2)\n",
    "\n",
    "# create table\n",
    "dem_summary_slow"
   ]
  },
  {
   "cell_type": "markdown",
   "metadata": {},
   "source": [
    "####Table 4. Demographics for the slow movement condition"
   ]
  },
  {
   "cell_type": "markdown",
   "metadata": {},
   "source": [
    "####2.2.2 Fast Movement Condition"
   ]
  },
  {
   "cell_type": "code",
   "execution_count": 18,
   "metadata": {
    "collapsed": false
   },
   "outputs": [
    {
     "data": {
      "text/html": [
       "<div>\n",
       "<table border=\"1\" class=\"dataframe\">\n",
       "  <thead>\n",
       "    <tr style=\"text-align: right;\">\n",
       "      <th></th>\n",
       "      <th>Age</th>\n",
       "      <th>Education</th>\n",
       "      <th>V_week</th>\n",
       "      <th>V_age</th>\n",
       "      <th>SBSOD</th>\n",
       "    </tr>\n",
       "  </thead>\n",
       "  <tbody>\n",
       "    <tr>\n",
       "      <th>count</th>\n",
       "      <td>26.00</td>\n",
       "      <td>26.00</td>\n",
       "      <td>26.00</td>\n",
       "      <td>26.00</td>\n",
       "      <td>26.00</td>\n",
       "    </tr>\n",
       "    <tr>\n",
       "      <th>mean</th>\n",
       "      <td>20.92</td>\n",
       "      <td>12.46</td>\n",
       "      <td>7.77</td>\n",
       "      <td>8.08</td>\n",
       "      <td>3.65</td>\n",
       "    </tr>\n",
       "    <tr>\n",
       "      <th>std</th>\n",
       "      <td>1.92</td>\n",
       "      <td>3.75</td>\n",
       "      <td>11.67</td>\n",
       "      <td>3.21</td>\n",
       "      <td>1.02</td>\n",
       "    </tr>\n",
       "    <tr>\n",
       "      <th>min</th>\n",
       "      <td>18.00</td>\n",
       "      <td>3.00</td>\n",
       "      <td>0.00</td>\n",
       "      <td>0.00</td>\n",
       "      <td>2.00</td>\n",
       "    </tr>\n",
       "    <tr>\n",
       "      <th>25%</th>\n",
       "      <td>19.25</td>\n",
       "      <td>12.00</td>\n",
       "      <td>0.00</td>\n",
       "      <td>6.00</td>\n",
       "      <td>3.00</td>\n",
       "    </tr>\n",
       "    <tr>\n",
       "      <th>50%</th>\n",
       "      <td>21.00</td>\n",
       "      <td>13.00</td>\n",
       "      <td>3.50</td>\n",
       "      <td>8.00</td>\n",
       "      <td>4.00</td>\n",
       "    </tr>\n",
       "    <tr>\n",
       "      <th>75%</th>\n",
       "      <td>22.00</td>\n",
       "      <td>14.75</td>\n",
       "      <td>13.75</td>\n",
       "      <td>10.75</td>\n",
       "      <td>4.00</td>\n",
       "    </tr>\n",
       "    <tr>\n",
       "      <th>max</th>\n",
       "      <td>25.00</td>\n",
       "      <td>17.00</td>\n",
       "      <td>50.00</td>\n",
       "      <td>13.00</td>\n",
       "      <td>5.00</td>\n",
       "    </tr>\n",
       "  </tbody>\n",
       "</table>\n",
       "</div>"
      ],
      "text/plain": [
       "         Age  Education  V_week  V_age  SBSOD\n",
       "count  26.00      26.00   26.00  26.00  26.00\n",
       "mean   20.92      12.46    7.77   8.08   3.65\n",
       "std     1.92       3.75   11.67   3.21   1.02\n",
       "min    18.00       3.00    0.00   0.00   2.00\n",
       "25%    19.25      12.00    0.00   6.00   3.00\n",
       "50%    21.00      13.00    3.50   8.00   4.00\n",
       "75%    22.00      14.75   13.75  10.75   4.00\n",
       "max    25.00      17.00   50.00  13.00   5.00"
      ]
     },
     "execution_count": 18,
     "metadata": {},
     "output_type": "execute_result"
    }
   ],
   "source": [
    "# import demographic data\n",
    "import_d_data_fast = pd.read_csv('fast_survey.csv')\n",
    "\n",
    "# select relevant data\n",
    "dem_data_fast = import_d_data_fast.loc[:,:'SBSOD']\n",
    "\n",
    "# summarize demographic data\n",
    "dem_summary_fast = np.round(dem_data_fast.describe(), decimals = 2)\n",
    "\n",
    "# create table\n",
    "dem_summary_fast"
   ]
  },
  {
   "cell_type": "markdown",
   "metadata": {},
   "source": [
    "####Table 5. Demographics for the fast movement condition"
   ]
  },
  {
   "cell_type": "markdown",
   "metadata": {},
   "source": [
    "###2.3 Filtering Lost Trials"
   ]
  },
  {
   "cell_type": "markdown",
   "metadata": {},
   "source": [
    "####2.3.1 Slow Movement Condition - Top Quartile"
   ]
  },
  {
   "cell_type": "code",
   "execution_count": 23,
   "metadata": {
    "collapsed": false
   },
   "outputs": [],
   "source": [
    "#load optimal route times\n",
    "opt = pd.read_csv('Optimal.csv')\n",
    "opt_temp = opt\n",
    "\n",
    "#clone vector for each participant and index it to zero\n",
    "counter = len(p_data_slow['Participant'].unique()) - 1\n",
    "\n",
    "#expand optimal vector to match length of p_data\n",
    "while counter > 1:\n",
    "    opt = opt.append(opt_temp)\n",
    "    counter = counter - 1\n",
    "    \n",
    "#reformat optimal index\n",
    "ind_list = list(range(0,len(p_data_slow)))\n",
    "\n",
    "opt = opt.set_index([ind_list])\n",
    "\n",
    "#join dataframes\n",
    "p_data_slow = p_data_slow.join(opt)\n",
    "\n",
    "#calculate new vector containing difference between path time and optimal time\n",
    "p_data_slow['Diff'] = np.NaN\n",
    "\n",
    "for i in ind_list:\n",
    "    p_data_slow.loc[i, 'Diff'] = p_data_slow.loc[i, 'Path_Time'] - p_data_slow.loc[i, 'Optimal']"
   ]
  },
  {
   "cell_type": "code",
   "execution_count": 24,
   "metadata": {
    "collapsed": false
   },
   "outputs": [
    {
     "name": "stdout",
     "output_type": "stream",
     "text": [
      "count    258.000000\n",
      "mean      39.664225\n",
      "std       40.467000\n",
      "min       13.802100\n",
      "25%       19.310900\n",
      "50%       26.965600\n",
      "75%       41.657825\n",
      "max      373.663200\n",
      "Name: Diff, dtype: float64\n"
     ]
    },
    {
     "data": {
      "image/png": "[encoded data removed]",
      "text/plain": [
       "<matplotlib.figure.Figure at 0x108fdf950>"
      ]
     },
     "metadata": {},
     "output_type": "display_data"
    }
   ],
   "source": [
    "print(p_data_slow.Diff.describe())\n",
    "plt.hist(p_data_slow.Diff.dropna(), 20);"
   ]
  },
  {
   "cell_type": "markdown",
   "metadata": {},
   "source": [
    "####Figure 4. Distribution of difference times in the slow condition"
   ]
  },
  {
   "cell_type": "markdown",
   "metadata": {},
   "source": [
    "Here we can see that the distribution of difference scores is similar to what we observed in study 1. As such, we'll apply the same filtering strategy to discard trials within the top quartile."
   ]
  },
  {
   "cell_type": "code",
   "execution_count": 25,
   "metadata": {
    "collapsed": true
   },
   "outputs": [],
   "source": [
    "# clone p_data for manipulation\n",
    "d75_slow = p_data_slow.copy()\n",
    "\n",
    "# remove trials with differences above the 75% cut off\n",
    "cutoff = d75_slow.Diff.quantile(.75)\n",
    "columns = list(d75.columns.values)\n",
    "\n",
    "for c in columns:\n",
    "    for i, r in d75_slow.iterrows():\n",
    "        if r[d75_slow.columns.get_loc('Diff')] > cutoff:\n",
    "            d75_slow.loc[i, c] = np.NaN "
   ]
  },
  {
   "cell_type": "code",
   "execution_count": 26,
   "metadata": {
    "collapsed": false
   },
   "outputs": [
    {
     "data": {
      "image/png": "[encoded data removed]",
      "text/plain": [
       "<matplotlib.figure.Figure at 0x1092471d0>"
      ]
     },
     "metadata": {},
     "output_type": "display_data"
    }
   ],
   "source": [
    "plt.subplot(121)\n",
    "plt.hist(p_data_slow.Diff.dropna(), 20)\n",
    "plt.title('Non-filtered')\n",
    "plt.xlabel('Difference')\n",
    "plt.ylabel('# of Trials')\n",
    "\n",
    "plt.subplot(122)\n",
    "plt.hist(d75_slow.Diff.dropna(), 20)\n",
    "plt.title('Filtered')\n",
    "plt.xlabel('Difference');"
   ]
  },
  {
   "cell_type": "markdown",
   "metadata": {},
   "source": [
    "####Figure 5. Comparison of filtered and non-filtered distributions of difference times in the slow condition"
   ]
  },
  {
   "cell_type": "markdown",
   "metadata": {},
   "source": [
    "####2.3.2 Fast Movement Condition - Top Quartile"
   ]
  },
  {
   "cell_type": "code",
   "execution_count": 27,
   "metadata": {
    "collapsed": true
   },
   "outputs": [],
   "source": [
    "# load optimal route times\n",
    "opt = pd.read_csv('Optimal.csv')\n",
    "opt_temp = opt\n",
    "\n",
    "# clone vector for each participant\n",
    "counter = len(p_data_fast['Participant'].unique()) - 1\n",
    "\n",
    "# expand optimal vector to match length of p_data_fast\n",
    "while counter > 1:\n",
    "    opt = opt.append(opt_temp)\n",
    "    counter = counter -1\n",
    "    \n",
    "# reformat optimal index\n",
    "ind_list = list(range(0,len(p_data_fast)))\n",
    "opt = opt.set_index([ind_list])\n",
    "\n",
    "# join dataframes\n",
    "p_data_fast = p_data_fast.join(opt)\n",
    "\n",
    "# calculate new vector containing difference between path time and optimal time\n",
    "p_data_fast['Diff'] = np.NaN\n",
    "\n",
    "for i in ind_list:\n",
    "    p_data_fast.loc[i, 'Diff'] = p_data_fast.loc[i, 'Path_Time'] - p_data_fast.loc[i, 'Optimal']"
   ]
  },
  {
   "cell_type": "code",
   "execution_count": 28,
   "metadata": {
    "collapsed": false
   },
   "outputs": [
    {
     "name": "stdout",
     "output_type": "stream",
     "text": [
      "count    258.000000\n",
      "mean      17.884645\n",
      "std       26.910165\n",
      "min        0.001800\n",
      "25%        2.482700\n",
      "50%        7.540800\n",
      "75%       18.887583\n",
      "max      160.290000\n",
      "Name: Diff, dtype: float64\n"
     ]
    },
    {
     "data": {
      "image/png": "[encoded data removed]",
      "text/plain": [
       "<matplotlib.figure.Figure at 0x10a7c7b10>"
      ]
     },
     "metadata": {},
     "output_type": "display_data"
    }
   ],
   "source": [
    "print(p_data_fast.Diff.describe())\n",
    "plt.hist(p_data_fast.Diff.dropna(), 20);"
   ]
  },
  {
   "cell_type": "markdown",
   "metadata": {},
   "source": [
    "####Figure 6. Distribution of difference times in the fast condition"
   ]
  },
  {
   "cell_type": "markdown",
   "metadata": {},
   "source": [
    "Again, we can see that the distribution of difference scores in the fast condition has a number of trials indicating that participants got lost."
   ]
  },
  {
   "cell_type": "code",
   "execution_count": 29,
   "metadata": {
    "collapsed": true
   },
   "outputs": [],
   "source": [
    "# clone p_data_fast for manipulation\n",
    "d75_fast = p_data_fast.copy()\n",
    "\n",
    "# remove trials with differences above the 75% cut off\n",
    "cutoff = d75_fast.Diff.quantile(.75)\n",
    "columns = list(d75_fast.columns.values)\n",
    "\n",
    "for c in columns:\n",
    "    for i, r in d75_fast.iterrows():\n",
    "        if r[d75_fast.columns.get_loc('Diff')] > cutoff:\n",
    "            d75_fast.loc[i, c] = np.NaN "
   ]
  },
  {
   "cell_type": "code",
   "execution_count": 30,
   "metadata": {
    "collapsed": false
   },
   "outputs": [
    {
     "data": {
      "image/png": "[encoded data removed]",
      "text/plain": [
       "<matplotlib.figure.Figure at 0x10a7e1c10>"
      ]
     },
     "metadata": {},
     "output_type": "display_data"
    }
   ],
   "source": [
    "plt.subplot(121)\n",
    "plt.hist(p_data_fast.Diff.dropna(), 20)\n",
    "plt.title('Non-filtered')\n",
    "plt.xlabel('Difference')\n",
    "plt.ylabel('# of Trials')\n",
    "\n",
    "plt.subplot(122)\n",
    "plt.hist(d75_fast.Diff.dropna(), 20)\n",
    "plt.title('Filtered')\n",
    "plt.xlabel('Difference');"
   ]
  },
  {
   "cell_type": "markdown",
   "metadata": {},
   "source": [
    "####Figure 7. Comparison of filtered and non-filtered distributions of difference times in the fast condition"
   ]
  },
  {
   "cell_type": "markdown",
   "metadata": {},
   "source": [
    "###2.4 Descriptive Statistics"
   ]
  },
  {
   "cell_type": "markdown",
   "metadata": {},
   "source": [
    "####2.4.1 Task Performance for Slow Movement Condition"
   ]
  },
  {
   "cell_type": "code",
   "execution_count": 19,
   "metadata": {
    "collapsed": false,
    "scrolled": true
   },
   "outputs": [
    {
     "data": {
      "text/html": [
       "<div>\n",
       "<table border=\"1\" class=\"dataframe\">\n",
       "  <thead>\n",
       "    <tr style=\"text-align: right;\">\n",
       "      <th></th>\n",
       "      <th>Path_Time</th>\n",
       "      <th>Distance</th>\n",
       "      <th>RT</th>\n",
       "      <th>Sim_Time</th>\n",
       "    </tr>\n",
       "  </thead>\n",
       "  <tbody>\n",
       "    <tr>\n",
       "      <th>count</th>\n",
       "      <td>258.00</td>\n",
       "      <td>258.00</td>\n",
       "      <td>232.00</td>\n",
       "      <td>258.00</td>\n",
       "    </tr>\n",
       "    <tr>\n",
       "      <th>mean</th>\n",
       "      <td>64.54</td>\n",
       "      <td>232.21</td>\n",
       "      <td>3.09</td>\n",
       "      <td>13.41</td>\n",
       "    </tr>\n",
       "    <tr>\n",
       "      <th>std</th>\n",
       "      <td>42.84</td>\n",
       "      <td>154.41</td>\n",
       "      <td>1.64</td>\n",
       "      <td>9.82</td>\n",
       "    </tr>\n",
       "    <tr>\n",
       "      <th>min</th>\n",
       "      <td>31.00</td>\n",
       "      <td>36.20</td>\n",
       "      <td>0.00</td>\n",
       "      <td>0.19</td>\n",
       "    </tr>\n",
       "    <tr>\n",
       "      <th>25%</th>\n",
       "      <td>39.51</td>\n",
       "      <td>141.03</td>\n",
       "      <td>2.04</td>\n",
       "      <td>7.07</td>\n",
       "    </tr>\n",
       "    <tr>\n",
       "      <th>50%</th>\n",
       "      <td>52.36</td>\n",
       "      <td>191.73</td>\n",
       "      <td>2.73</td>\n",
       "      <td>11.14</td>\n",
       "    </tr>\n",
       "    <tr>\n",
       "      <th>75%</th>\n",
       "      <td>73.83</td>\n",
       "      <td>277.57</td>\n",
       "      <td>3.66</td>\n",
       "      <td>16.56</td>\n",
       "    </tr>\n",
       "    <tr>\n",
       "      <th>max</th>\n",
       "      <td>408.01</td>\n",
       "      <td>1445.55</td>\n",
       "      <td>11.82</td>\n",
       "      <td>65.92</td>\n",
       "    </tr>\n",
       "  </tbody>\n",
       "</table>\n",
       "</div>"
      ],
      "text/plain": [
       "       Path_Time  Distance      RT  Sim_Time\n",
       "count     258.00    258.00  232.00    258.00\n",
       "mean       64.54    232.21    3.09     13.41\n",
       "std        42.84    154.41    1.64      9.82\n",
       "min        31.00     36.20    0.00      0.19\n",
       "25%        39.51    141.03    2.04      7.07\n",
       "50%        52.36    191.73    2.73     11.14\n",
       "75%        73.83    277.57    3.66     16.56\n",
       "max       408.01   1445.55   11.82     65.92"
      ]
     },
     "execution_count": 19,
     "metadata": {},
     "output_type": "execute_result"
    }
   ],
   "source": [
    "# create new dataframe for task variables\n",
    "t_data_slow = p_data_slow.loc[:, 'Path_Time':'Sim_Time']\n",
    "\n",
    "# summarize simulation data\n",
    "t_summary_slow = np.round(t_data_slow.describe(), decimals = 2)\n",
    "\n",
    "# create table\n",
    "t_summary_slow"
   ]
  },
  {
   "cell_type": "markdown",
   "metadata": {},
   "source": [
    "####Table 6. Descriptive statistics for task performance in the slow movement condition"
   ]
  },
  {
   "cell_type": "markdown",
   "metadata": {},
   "source": [
    "####2.4.2 Task Performance for Fast Movement Condition"
   ]
  },
  {
   "cell_type": "code",
   "execution_count": 20,
   "metadata": {
    "collapsed": false
   },
   "outputs": [
    {
     "data": {
      "text/html": [
       "<div>\n",
       "<table border=\"1\" class=\"dataframe\">\n",
       "  <thead>\n",
       "    <tr style=\"text-align: right;\">\n",
       "      <th></th>\n",
       "      <th>Path_Time</th>\n",
       "      <th>Distance</th>\n",
       "      <th>RT</th>\n",
       "      <th>Sim_Time</th>\n",
       "    </tr>\n",
       "  </thead>\n",
       "  <tbody>\n",
       "    <tr>\n",
       "      <th>count</th>\n",
       "      <td>258.00</td>\n",
       "      <td>258.00</td>\n",
       "      <td>232.00</td>\n",
       "      <td>258.00</td>\n",
       "    </tr>\n",
       "    <tr>\n",
       "      <th>mean</th>\n",
       "      <td>42.73</td>\n",
       "      <td>280.92</td>\n",
       "      <td>3.30</td>\n",
       "      <td>11.02</td>\n",
       "    </tr>\n",
       "    <tr>\n",
       "      <th>std</th>\n",
       "      <td>27.83</td>\n",
       "      <td>187.25</td>\n",
       "      <td>2.41</td>\n",
       "      <td>7.19</td>\n",
       "    </tr>\n",
       "    <tr>\n",
       "      <th>min</th>\n",
       "      <td>17.25</td>\n",
       "      <td>119.76</td>\n",
       "      <td>0.15</td>\n",
       "      <td>0.12</td>\n",
       "    </tr>\n",
       "    <tr>\n",
       "      <th>25%</th>\n",
       "      <td>25.44</td>\n",
       "      <td>161.82</td>\n",
       "      <td>2.00</td>\n",
       "      <td>5.59</td>\n",
       "    </tr>\n",
       "    <tr>\n",
       "      <th>50%</th>\n",
       "      <td>33.53</td>\n",
       "      <td>220.20</td>\n",
       "      <td>2.74</td>\n",
       "      <td>8.93</td>\n",
       "    </tr>\n",
       "    <tr>\n",
       "      <th>75%</th>\n",
       "      <td>47.20</td>\n",
       "      <td>314.38</td>\n",
       "      <td>3.83</td>\n",
       "      <td>14.51</td>\n",
       "    </tr>\n",
       "    <tr>\n",
       "      <th>max</th>\n",
       "      <td>179.44</td>\n",
       "      <td>1230.62</td>\n",
       "      <td>21.42</td>\n",
       "      <td>38.35</td>\n",
       "    </tr>\n",
       "  </tbody>\n",
       "</table>\n",
       "</div>"
      ],
      "text/plain": [
       "       Path_Time  Distance      RT  Sim_Time\n",
       "count     258.00    258.00  232.00    258.00\n",
       "mean       42.73    280.92    3.30     11.02\n",
       "std        27.83    187.25    2.41      7.19\n",
       "min        17.25    119.76    0.15      0.12\n",
       "25%        25.44    161.82    2.00      5.59\n",
       "50%        33.53    220.20    2.74      8.93\n",
       "75%        47.20    314.38    3.83     14.51\n",
       "max       179.44   1230.62   21.42     38.35"
      ]
     },
     "execution_count": 20,
     "metadata": {},
     "output_type": "execute_result"
    }
   ],
   "source": [
    "# create new dataframe for task variables\n",
    "t_data_fast = p_data_fast.loc[:, 'Path_Time':'Sim_Time']\n",
    "\n",
    "# summarize simulation data\n",
    "t_summary_fast = np.round(t_data_fast.describe(), decimals = 2)\n",
    "\n",
    "# create table\n",
    "t_summary_fast"
   ]
  },
  {
   "cell_type": "markdown",
   "metadata": {},
   "source": [
    "####Table 7. Descriptive statistics for task performance in the fast movement condition"
   ]
  },
  {
   "cell_type": "markdown",
   "metadata": {},
   "source": [
    "###2.5 Simulation Statistics"
   ]
  },
  {
   "cell_type": "markdown",
   "metadata": {},
   "source": [
    "####2.5.1 Slow Movement Condition"
   ]
  },
  {
   "cell_type": "code",
   "execution_count": 21,
   "metadata": {
    "collapsed": false
   },
   "outputs": [
    {
     "data": {
      "text/html": [
       "<div>\n",
       "<table border=\"1\" class=\"dataframe\">\n",
       "  <thead>\n",
       "    <tr style=\"text-align: right;\">\n",
       "      <th></th>\n",
       "      <th>Vividness</th>\n",
       "      <th>S_coherence</th>\n",
       "      <th>T_coherence</th>\n",
       "      <th>Fract</th>\n",
       "      <th>Coherence</th>\n",
       "      <th>Length</th>\n",
       "      <th>S_mem</th>\n",
       "      <th>G_mem</th>\n",
       "    </tr>\n",
       "  </thead>\n",
       "  <tbody>\n",
       "    <tr>\n",
       "      <th>count</th>\n",
       "      <td>258.00</td>\n",
       "      <td>258.00</td>\n",
       "      <td>258.00</td>\n",
       "      <td>258.00</td>\n",
       "      <td>258.00</td>\n",
       "      <td>258.00</td>\n",
       "      <td>258.00</td>\n",
       "      <td>258.00</td>\n",
       "    </tr>\n",
       "    <tr>\n",
       "      <th>mean</th>\n",
       "      <td>3.80</td>\n",
       "      <td>3.53</td>\n",
       "      <td>3.54</td>\n",
       "      <td>3.71</td>\n",
       "      <td>3.62</td>\n",
       "      <td>2.58</td>\n",
       "      <td>4.49</td>\n",
       "      <td>4.22</td>\n",
       "    </tr>\n",
       "    <tr>\n",
       "      <th>std</th>\n",
       "      <td>0.90</td>\n",
       "      <td>1.32</td>\n",
       "      <td>1.34</td>\n",
       "      <td>1.15</td>\n",
       "      <td>0.96</td>\n",
       "      <td>1.41</td>\n",
       "      <td>1.03</td>\n",
       "      <td>1.20</td>\n",
       "    </tr>\n",
       "    <tr>\n",
       "      <th>min</th>\n",
       "      <td>1.00</td>\n",
       "      <td>1.00</td>\n",
       "      <td>1.00</td>\n",
       "      <td>1.00</td>\n",
       "      <td>1.00</td>\n",
       "      <td>1.00</td>\n",
       "      <td>1.00</td>\n",
       "      <td>1.00</td>\n",
       "    </tr>\n",
       "    <tr>\n",
       "      <th>25%</th>\n",
       "      <td>3.17</td>\n",
       "      <td>3.00</td>\n",
       "      <td>3.00</td>\n",
       "      <td>3.00</td>\n",
       "      <td>3.00</td>\n",
       "      <td>1.00</td>\n",
       "      <td>4.00</td>\n",
       "      <td>4.00</td>\n",
       "    </tr>\n",
       "    <tr>\n",
       "      <th>50%</th>\n",
       "      <td>4.00</td>\n",
       "      <td>4.00</td>\n",
       "      <td>4.00</td>\n",
       "      <td>4.00</td>\n",
       "      <td>3.50</td>\n",
       "      <td>2.00</td>\n",
       "      <td>5.00</td>\n",
       "      <td>5.00</td>\n",
       "    </tr>\n",
       "    <tr>\n",
       "      <th>75%</th>\n",
       "      <td>4.50</td>\n",
       "      <td>5.00</td>\n",
       "      <td>5.00</td>\n",
       "      <td>4.50</td>\n",
       "      <td>4.50</td>\n",
       "      <td>4.00</td>\n",
       "      <td>5.00</td>\n",
       "      <td>5.00</td>\n",
       "    </tr>\n",
       "    <tr>\n",
       "      <th>max</th>\n",
       "      <td>5.00</td>\n",
       "      <td>5.00</td>\n",
       "      <td>5.00</td>\n",
       "      <td>5.00</td>\n",
       "      <td>5.00</td>\n",
       "      <td>5.00</td>\n",
       "      <td>5.00</td>\n",
       "      <td>5.00</td>\n",
       "    </tr>\n",
       "  </tbody>\n",
       "</table>\n",
       "</div>"
      ],
      "text/plain": [
       "       Vividness  S_coherence  T_coherence   Fract  Coherence  Length   S_mem  \\\n",
       "count     258.00       258.00       258.00  258.00     258.00  258.00  258.00   \n",
       "mean        3.80         3.53         3.54    3.71       3.62    2.58    4.49   \n",
       "std         0.90         1.32         1.34    1.15       0.96    1.41    1.03   \n",
       "min         1.00         1.00         1.00    1.00       1.00    1.00    1.00   \n",
       "25%         3.17         3.00         3.00    3.00       3.00    1.00    4.00   \n",
       "50%         4.00         4.00         4.00    4.00       3.50    2.00    5.00   \n",
       "75%         4.50         5.00         5.00    4.50       4.50    4.00    5.00   \n",
       "max         5.00         5.00         5.00    5.00       5.00    5.00    5.00   \n",
       "\n",
       "        G_mem  \n",
       "count  258.00  \n",
       "mean     4.22  \n",
       "std      1.20  \n",
       "min      1.00  \n",
       "25%      4.00  \n",
       "50%      5.00  \n",
       "75%      5.00  \n",
       "max      5.00  "
      ]
     },
     "execution_count": 21,
     "metadata": {},
     "output_type": "execute_result"
    }
   ],
   "source": [
    "# select relevant columns\n",
    "s_data_slow = p_data_slow.loc[:, 'Vividness':]\n",
    "\n",
    "# summarize simulation data\n",
    "s_summary_slow = np.round(s_data_slow.describe(), decimals = 2)\n",
    "\n",
    "# create table\n",
    "s_summary_slow"
   ]
  },
  {
   "cell_type": "markdown",
   "metadata": {},
   "source": [
    "####Table 8. Descriptive statistics for simulation variables in the fast condition"
   ]
  },
  {
   "cell_type": "markdown",
   "metadata": {},
   "source": [
    "####2.5.2 Fast Movement Condition"
   ]
  },
  {
   "cell_type": "code",
   "execution_count": 22,
   "metadata": {
    "collapsed": false
   },
   "outputs": [
    {
     "data": {
      "text/html": [
       "<div>\n",
       "<table border=\"1\" class=\"dataframe\">\n",
       "  <thead>\n",
       "    <tr style=\"text-align: right;\">\n",
       "      <th></th>\n",
       "      <th>Vividness</th>\n",
       "      <th>S_coherence</th>\n",
       "      <th>T_coherence</th>\n",
       "      <th>Fract</th>\n",
       "      <th>Coherence</th>\n",
       "      <th>Length</th>\n",
       "      <th>S_mem</th>\n",
       "      <th>G_mem</th>\n",
       "    </tr>\n",
       "  </thead>\n",
       "  <tbody>\n",
       "    <tr>\n",
       "      <th>count</th>\n",
       "      <td>258.00</td>\n",
       "      <td>258.00</td>\n",
       "      <td>258.00</td>\n",
       "      <td>258.00</td>\n",
       "      <td>258.00</td>\n",
       "      <td>258.00</td>\n",
       "      <td>258.00</td>\n",
       "      <td>258.00</td>\n",
       "    </tr>\n",
       "    <tr>\n",
       "      <th>mean</th>\n",
       "      <td>3.54</td>\n",
       "      <td>3.29</td>\n",
       "      <td>3.25</td>\n",
       "      <td>3.28</td>\n",
       "      <td>3.28</td>\n",
       "      <td>2.71</td>\n",
       "      <td>4.08</td>\n",
       "      <td>3.71</td>\n",
       "    </tr>\n",
       "    <tr>\n",
       "      <th>std</th>\n",
       "      <td>0.99</td>\n",
       "      <td>1.22</td>\n",
       "      <td>1.20</td>\n",
       "      <td>1.08</td>\n",
       "      <td>0.86</td>\n",
       "      <td>1.29</td>\n",
       "      <td>1.21</td>\n",
       "      <td>1.28</td>\n",
       "    </tr>\n",
       "    <tr>\n",
       "      <th>min</th>\n",
       "      <td>1.00</td>\n",
       "      <td>1.00</td>\n",
       "      <td>1.00</td>\n",
       "      <td>1.00</td>\n",
       "      <td>1.00</td>\n",
       "      <td>1.00</td>\n",
       "      <td>1.00</td>\n",
       "      <td>1.00</td>\n",
       "    </tr>\n",
       "    <tr>\n",
       "      <th>25%</th>\n",
       "      <td>3.00</td>\n",
       "      <td>2.00</td>\n",
       "      <td>2.00</td>\n",
       "      <td>2.50</td>\n",
       "      <td>2.75</td>\n",
       "      <td>2.00</td>\n",
       "      <td>3.00</td>\n",
       "      <td>3.00</td>\n",
       "    </tr>\n",
       "    <tr>\n",
       "      <th>50%</th>\n",
       "      <td>3.67</td>\n",
       "      <td>3.00</td>\n",
       "      <td>3.00</td>\n",
       "      <td>3.00</td>\n",
       "      <td>3.25</td>\n",
       "      <td>3.00</td>\n",
       "      <td>5.00</td>\n",
       "      <td>4.00</td>\n",
       "    </tr>\n",
       "    <tr>\n",
       "      <th>75%</th>\n",
       "      <td>4.33</td>\n",
       "      <td>4.00</td>\n",
       "      <td>4.00</td>\n",
       "      <td>4.00</td>\n",
       "      <td>4.00</td>\n",
       "      <td>4.00</td>\n",
       "      <td>5.00</td>\n",
       "      <td>5.00</td>\n",
       "    </tr>\n",
       "    <tr>\n",
       "      <th>max</th>\n",
       "      <td>5.00</td>\n",
       "      <td>5.00</td>\n",
       "      <td>5.00</td>\n",
       "      <td>5.00</td>\n",
       "      <td>5.00</td>\n",
       "      <td>5.00</td>\n",
       "      <td>5.00</td>\n",
       "      <td>5.00</td>\n",
       "    </tr>\n",
       "  </tbody>\n",
       "</table>\n",
       "</div>"
      ],
      "text/plain": [
       "       Vividness  S_coherence  T_coherence   Fract  Coherence  Length   S_mem  \\\n",
       "count     258.00       258.00       258.00  258.00     258.00  258.00  258.00   \n",
       "mean        3.54         3.29         3.25    3.28       3.28    2.71    4.08   \n",
       "std         0.99         1.22         1.20    1.08       0.86    1.29    1.21   \n",
       "min         1.00         1.00         1.00    1.00       1.00    1.00    1.00   \n",
       "25%         3.00         2.00         2.00    2.50       2.75    2.00    3.00   \n",
       "50%         3.67         3.00         3.00    3.00       3.25    3.00    5.00   \n",
       "75%         4.33         4.00         4.00    4.00       4.00    4.00    5.00   \n",
       "max         5.00         5.00         5.00    5.00       5.00    5.00    5.00   \n",
       "\n",
       "        G_mem  \n",
       "count  258.00  \n",
       "mean     3.71  \n",
       "std      1.28  \n",
       "min      1.00  \n",
       "25%      3.00  \n",
       "50%      4.00  \n",
       "75%      5.00  \n",
       "max      5.00  "
      ]
     },
     "execution_count": 22,
     "metadata": {},
     "output_type": "execute_result"
    }
   ],
   "source": [
    "# select relevant columns\n",
    "s_data_fast = p_data_fast.loc[:, 'Vividness':]\n",
    "\n",
    "#summarize simulation data\n",
    "s_summary_fast = np.round(s_data_fast.describe(), decimals = 2)\n",
    "\n",
    "#create table\n",
    "s_summary_fast"
   ]
  },
  {
   "cell_type": "markdown",
   "metadata": {},
   "source": [
    "####Table 9. Descriptive statistics for simulation variables in the fast condition"
   ]
  },
  {
   "cell_type": "markdown",
   "metadata": {},
   "source": [
    "###2.6 Mean Centering Simulation Time"
   ]
  },
  {
   "cell_type": "markdown",
   "metadata": {},
   "source": [
    "####2.6.1 Slow Movement Condition"
   ]
  },
  {
   "cell_type": "code",
   "execution_count": 31,
   "metadata": {
    "collapsed": false
   },
   "outputs": [],
   "source": [
    "# mean center slow condition\n",
    "mean_center(d75_slow)"
   ]
  },
  {
   "cell_type": "code",
   "execution_count": 32,
   "metadata": {
    "collapsed": false
   },
   "outputs": [
    {
     "data": {
      "image/png": "[encoded data removed]",
      "text/plain": [
       "<matplotlib.figure.Figure at 0x108aaee90>"
      ]
     },
     "metadata": {},
     "output_type": "display_data"
    }
   ],
   "source": [
    "# plot new data\n",
    "sns.lmplot(\"Path_Time\", \"Sim_Centered\", d75_slow)\n",
    "plt.title(\"Mean Centered\");"
   ]
  },
  {
   "cell_type": "markdown",
   "metadata": {},
   "source": [
    "####Figure 8. Relationship between mean centered simulation time and path time for the slow movement condition"
   ]
  },
  {
   "cell_type": "markdown",
   "metadata": {},
   "source": [
    "####2.6.2 Fast Movement Condition"
   ]
  },
  {
   "cell_type": "code",
   "execution_count": 33,
   "metadata": {
    "collapsed": true
   },
   "outputs": [],
   "source": [
    "# mean center fast data\n",
    "mean_center(d75_fast)"
   ]
  },
  {
   "cell_type": "code",
   "execution_count": 34,
   "metadata": {
    "collapsed": false,
    "scrolled": true
   },
   "outputs": [
    {
     "data": {
      "image/png": "[encoded data removed]",
      "text/plain": [
       "<matplotlib.figure.Figure at 0x10ab15690>"
      ]
     },
     "metadata": {},
     "output_type": "display_data"
    }
   ],
   "source": [
    "sns.lmplot(\"Path_Time\", \"Sim_Centered\", d75_fast)\n",
    "plt.title(\"Mean Centered\");"
   ]
  },
  {
   "cell_type": "markdown",
   "metadata": {},
   "source": [
    "####Figure 9. Relationship between mean centered simulation time and path time for the fast movement condition"
   ]
  },
  {
   "cell_type": "markdown",
   "metadata": {},
   "source": [
    "###2.7 Temporal Compression Rate"
   ]
  },
  {
   "cell_type": "markdown",
   "metadata": {},
   "source": [
    "Next, we need to calculate and compare the temporal compression rates between the three movement conditions. This addresses our second research question about whether the temporal compression rates are adaptive or constant across variations in the speed of visual stimuli encountered while learning spatial layouts. Our hypothesis is that the compression rates will be adaptive to allow more predictions per unit of time during the simulations."
   ]
  },
  {
   "cell_type": "code",
   "execution_count": 35,
   "metadata": {
    "collapsed": false
   },
   "outputs": [
    {
     "name": "stdout",
     "output_type": "stream",
     "text": [
      "The temporal compression factor for the slow movement condition is 0.28 and its standard deviation is 0.188.\n"
     ]
    }
   ],
   "source": [
    "# calculate temporal compression factor\n",
    "t_fact_slow = d75_slow.loc[:, 'Sim_Time'] / d75_slow.loc[:, 'Path_Time']\n",
    "print 'The temporal compression factor for the slow movement condition is {} and its standard deviation is {}.'.format(np.round(t_fact_slow.mean(), 3),np.round(t_fact_slow.std(), 3))"
   ]
  },
  {
   "cell_type": "code",
   "execution_count": 36,
   "metadata": {
    "collapsed": false
   },
   "outputs": [
    {
     "name": "stdout",
     "output_type": "stream",
     "text": [
      "The temporal compression factor for the fast movement condition is 0.354 and its standard deviation is 0.221.\n"
     ]
    }
   ],
   "source": [
    "# calculate temporal compression factor\n",
    "t_fact_fast = d75_fast.loc[:, 'Sim_Time'] / d75_fast.loc[:, 'Path_Time']\n",
    "print 'The temporal compression factor for the fast movement condition is {} and its standard deviation is {}.'.format(np.round(t_fact_fast.mean(), 3), np.round(t_fact_fast.std(), 3))"
   ]
  },
  {
   "cell_type": "markdown",
   "metadata": {},
   "source": [
    "##3. ANOVA"
   ]
  },
  {
   "cell_type": "markdown",
   "metadata": {},
   "source": [
    "In this section, we conduct an ANOVA to compare group performance on the performance variables."
   ]
  },
  {
   "cell_type": "code",
   "execution_count": 37,
   "metadata": {
    "collapsed": false
   },
   "outputs": [],
   "source": [
    "# clone dataframes\n",
    "slow_clone = d75_slow.copy()\n",
    "medium_clone = d75.copy()\n",
    "fast_clone = d75_fast.copy()\n",
    "\n",
    "# insert vector coding group membership\n",
    "slow_clone['Group'] = 0\n",
    "medium_clone['Group'] = 1\n",
    "fast_clone['Group'] = 2\n",
    "\n",
    "# create new dataframe with all group data\n",
    "mega = pd.concat([slow_clone, medium_clone, fast_clone])"
   ]
  },
  {
   "cell_type": "code",
   "execution_count": 39,
   "metadata": {
    "collapsed": false
   },
   "outputs": [],
   "source": [
    "# export for analysis in SPSS\n",
    "mega.to_csv('mega_matrix.csv')"
   ]
  },
  {
   "cell_type": "markdown",
   "metadata": {},
   "source": [
    "![](performance_anova.png)"
   ]
  },
  {
   "cell_type": "markdown",
   "metadata": {},
   "source": [
    "##4. Comparison of Compression Rates"
   ]
  },
  {
   "cell_type": "markdown",
   "metadata": {},
   "source": [
    "In this section, we'll compare the compression rates between groups to test whether they're adaptive or constant across encoding speeds. This addresses our research question 2. We also log transform the compression rates in case they result in non-normal distributions."
   ]
  },
  {
   "cell_type": "code",
   "execution_count": 43,
   "metadata": {
    "collapsed": false
   },
   "outputs": [],
   "source": [
    "# insert compression rate vector\n",
    "mega['Compression'] = mega['Sim_Time']/mega['Path_Time']\n",
    "\n",
    "# insert log transformed compression rates\n",
    "mega['Log'] = np.log(mega['Compression'])"
   ]
  },
  {
   "cell_type": "code",
   "execution_count": 44,
   "metadata": {
    "collapsed": false
   },
   "outputs": [],
   "source": [
    "# clone vectors for manipulation\n",
    "c_rates = mega.loc[:,'Group':].copy()\n",
    "\n",
    "#drop NaN rows\n",
    "c_rates = c_rates.dropna()\n",
    "\n",
    "# group based on condition\n",
    "groups = c_rates.groupby(['Group'])"
   ]
  },
  {
   "cell_type": "code",
   "execution_count": 45,
   "metadata": {
    "collapsed": false
   },
   "outputs": [
    {
     "name": "stdout",
     "output_type": "stream",
     "text": [
      "For group 0 compression values, statistic is 50.9097027695 and p-value is 8.81248733691e-12\n",
      "For group 0 log values, statistic is 46.2536121624 and p-value is 9.03973574066e-11\n",
      "For group 1 compression values, statistic is 44.3078372503 and p-value is 2.39152755186e-10\n",
      "For group 1 log values, statistic is 96.5162932181 and p-value is 1.10091355957e-21\n",
      "For group 2 compression values, statistic is 50.9274317854 and p-value is 8.73471419251e-12\n",
      "For group 2 log values, statistic is 82.0123856187 and p-value is 1.5532334651e-18\n"
     ]
    }
   ],
   "source": [
    "# test normality of compression and log transforms for each group\n",
    "group_id = [0,1,2]\n",
    "\n",
    "for g in group_id:\n",
    "    data = groups.get_group(g)\n",
    "    c_values = data.Compression.values\n",
    "    normal_c = stats.normaltest(c_values)\n",
    "    print 'For group {} compression values, statistic is {} and p-value is {}'.format(g,normal_c[0],normal_c[1])\n",
    "    \n",
    "    # drop NaN values from log vector\n",
    "    l_values = data.copy()\n",
    "    l_values = l_values.dropna()\n",
    "    l_values = l_values.Log.values\n",
    "    normal_l = stats.normaltest(l_values)\n",
    "    print 'For group {} log values, statistic is {} and p-value is {}'.format(g,normal_l[0],normal_l[1])"
   ]
  },
  {
   "cell_type": "markdown",
   "metadata": {},
   "source": [
    "From this output we can see that none of the compression rate vectors are normally distributed and that log transforming them didn't help either. Let's plot this to visualize it better."
   ]
  },
  {
   "cell_type": "code",
   "execution_count": 47,
   "metadata": {
    "collapsed": false
   },
   "outputs": [
    {
     "data": {
      "image/png": "[encoded data removed]",
      "text/plain": [
       "<matplotlib.figure.Figure at 0x10ae4d290>"
      ]
     },
     "metadata": {},
     "output_type": "display_data"
    }
   ],
   "source": [
    "# grab data\n",
    "c_slow = groups.get_group(0)\n",
    "c_med = groups.get_group(1)\n",
    "c_fast = groups.get_group(2)\n",
    "\n",
    "# plot slow\n",
    "plt.subplot(321)\n",
    "plt.hist(c_slow.Compression.values)\n",
    "plt.title('Slow Normal')\n",
    "plt.xlabel('Compression Rate')\n",
    "plt.ylabel('Count')\n",
    "plt.subplot(322)\n",
    "plt.hist(c_slow.Log.values)\n",
    "plt.title('Slow Log Transformed')\n",
    "plt.xlabel('Compression Rate')\n",
    "\n",
    "# plot medium\n",
    "plt.subplot(323)\n",
    "plt.hist(c_med.Compression.values)\n",
    "plt.title('Medium Normal')\n",
    "plt.xlabel('Compression Rate')\n",
    "plt.ylabel('Count')\n",
    "plt.subplot(324)\n",
    "plt.hist(c_med.Log.values)\n",
    "plt.title('Medium Log Transformed')\n",
    "plt.xlabel('Compression Rate')\n",
    "\n",
    "# plot fast\n",
    "plt.subplot(325)\n",
    "plt.hist(c_fast.Compression.values)\n",
    "plt.title('Fast Normal')\n",
    "plt.xlabel('Compression Rate')\n",
    "plt.ylabel('Count')\n",
    "plt.subplot(326)\n",
    "plt.hist(c_fast.Log.values)\n",
    "plt.title('Fast Log Transformed')\n",
    "plt.xlabel('Compression Rate')\n",
    "\n",
    "plt.tight_layout();"
   ]
  },
  {
   "cell_type": "markdown",
   "metadata": {},
   "source": [
    "####Figure 10. Comparison of Histograms for Compression Rates and Log Transformed Compression Rates"
   ]
  },
  {
   "cell_type": "markdown",
   "metadata": {},
   "source": [
    "Based on these plots we can see that although not normal, the compression rates of the three conditions follow the same distribution. As such, to test group differences we'll use the non-parametric Kruskal-Wallis H test."
   ]
  },
  {
   "cell_type": "code",
   "execution_count": 48,
   "metadata": {
    "collapsed": false
   },
   "outputs": [
    {
     "name": "stdout",
     "output_type": "stream",
     "text": [
      "The H statistic is 21.0549046963 and its associated p-value is 2.67907910196e-05\n"
     ]
    }
   ],
   "source": [
    "# run H test on three conditions\n",
    "H, pval_H = stats.mstats.kruskalwallis(c_slow['Compression'], c_med['Compression'], c_fast['Compression'])\n",
    "print 'The H statistic is {} and its associated p-value is {}'.format(H,pval_H)"
   ]
  },
  {
   "cell_type": "markdown",
   "metadata": {},
   "source": [
    "The result of this test shows that there are statistically significant group differences. Next, we'll run the non-parametric Mann-Whiteny U test to identify which groups differ."
   ]
  },
  {
   "cell_type": "code",
   "execution_count": 49,
   "metadata": {
    "collapsed": false
   },
   "outputs": [
    {
     "name": "stdout",
     "output_type": "stream",
     "text": [
      "For the [0] vs [1] comparison, the U statistic is 15486.0 and its associated p-value is 4.29975371633e-05\n",
      "For the [0] vs [2] comparison, the U statistic is 14426.0 and its associated p-value is 0.000128044592652\n",
      "For the [1] vs [2] comparison, the U statistic is 19544.0 and its associated p-value is 0.537365472724\n"
     ]
    }
   ],
   "source": [
    "# function to run tests\n",
    "def mw_test(d1, d2, column):\n",
    "    U, pval_U = stats.mannwhitneyu(d1[column], d2[column])\n",
    "    # note that the p-value is multiplied by 2 for a two sided test\n",
    "    print 'For the {} vs {} comparison, the U statistic is {} and its associated p-value is {}'.format(d1['Group'].unique(),d2['Group'].unique(),U,pval_U*2)\n",
    "    \n",
    "# run for group comparisons on compression rates\n",
    "mw_test(c_slow,c_med,'Compression')\n",
    "mw_test(c_slow,c_fast,'Compression')\n",
    "mw_test(c_med, c_fast,'Compression')"
   ]
  },
  {
   "cell_type": "markdown",
   "metadata": {},
   "source": [
    "From this output we can see that the slow condition has a statistically different compression rate than both the medium and fast conditions, but the medium and fast conditions don't statistically differ from one another."
   ]
  },
  {
   "cell_type": "code",
   "execution_count": 52,
   "metadata": {
    "collapsed": false
   },
   "outputs": [
    {
     "name": "stdout",
     "output_type": "stream",
     "text": [
      "For the [0] condition, the mean compression rate is 3.57394366397 and the standard deviation is 5.30725345616\n",
      "For the [1] condition, the mean compression rate is 2.39215859892 and the standard deviation is 3.03959239009\n",
      "For the [2] condition, the mean compression rate is 2.82791032033 and the standard deviation is 4.51707646079\n"
     ]
    }
   ],
   "source": [
    "def dstats(data):\n",
    "    print 'For the {} condition, the mean compression rate is {} and the standard deviation is {}'.format(data['Group'].unique(),1/data['Compression'].mean(),1/data['Compression'].std())\n",
    "\n",
    "# display mean and std for each group\n",
    "dstats(c_slow)\n",
    "dstats(c_med)\n",
    "dstats(c_fast)"
   ]
  },
  {
   "cell_type": "markdown",
   "metadata": {},
   "source": [
    "##5. Regression Analysis"
   ]
  },
  {
   "cell_type": "markdown",
   "metadata": {},
   "source": [
    "In this section, we run stepwise regression analyses for each movement condition to identify performance and simulation variables that explain a statistically significant amount of variance in the mean centered simulation time. Regression equations are constructed seperately for each condition. As potential predictor variabels, we'll include path time, simulation confidence, vividness, spatial coherence, temporal coherence, fractionation, and post-navigation confidence of the simulation."
   ]
  },
  {
   "cell_type": "markdown",
   "metadata": {},
   "source": [
    "###5.1 Regression Equation for Slow Movement Condition"
   ]
  },
  {
   "cell_type": "markdown",
   "metadata": {},
   "source": [
    "Because these analyses were run in SPSS, they'll be imported as images from the SPSS output.\n",
    "\n",
    "**Note that the full SPSS output is available in the project Github repo.**"
   ]
  },
  {
   "cell_type": "markdown",
   "metadata": {},
   "source": [
    "![](slow_reg_results.png)"
   ]
  },
  {
   "cell_type": "markdown",
   "metadata": {},
   "source": [
    "####Figure 11. Regression output for slow movement condition"
   ]
  },
  {
   "cell_type": "markdown",
   "metadata": {},
   "source": [
    "Our analysis identified a statistically significant regression equation that includes both path time and simulation confidence as predictor variables. Importantly, the longer the subsequent path time, the longer the simulation episode, reflecting that temporal information is retained (in a compressed form) during mental simulations."
   ]
  },
  {
   "cell_type": "markdown",
   "metadata": {},
   "source": [
    "###5.2 Regression Equation for the Medium Movement Condition"
   ]
  },
  {
   "cell_type": "markdown",
   "metadata": {},
   "source": [
    "![](medium_reg_results.png)"
   ]
  },
  {
   "cell_type": "markdown",
   "metadata": {},
   "source": [
    "####Figure 12. Regression output for medium movement condition"
   ]
  },
  {
   "cell_type": "markdown",
   "metadata": {},
   "source": [
    "For the medium condition, we also found a statistically significant regression equation. As with the slow condition, the first predictor variable in the equation is path time. However, in this condition we also have a statistically significant predictor variable representing the fidelity of the memories being used to imagine the route. For vividness, the higher the variables (i.e. the more vivid the memories), the quicker participants are able to simulate the routes. This addresses research Q3 and shows that the better the fidelity of the spatial memories, the more readily participants are able to simulate routes based on them."
   ]
  },
  {
   "cell_type": "markdown",
   "metadata": {},
   "source": [
    "###5.3 Regression Equation for the Fast Movement Condition"
   ]
  },
  {
   "cell_type": "markdown",
   "metadata": {},
   "source": [
    "![](fast_reg_results.png)"
   ]
  },
  {
   "cell_type": "markdown",
   "metadata": {},
   "source": [
    "####Figure 13. Regression output for fast movement condition"
   ]
  },
  {
   "cell_type": "markdown",
   "metadata": {},
   "source": [
    "As in both other movement conditions, we have a statistically significant regression equation with path time as the first predictor variable. We also find an effect of memory fidelity here with more spatially coherent memories facilitating quicker mental simulations."
   ]
  },
  {
   "cell_type": "markdown",
   "metadata": {},
   "source": [
    "###5.4 Regression Plots"
   ]
  },
  {
   "cell_type": "code",
   "execution_count": 119,
   "metadata": {
    "collapsed": false,
    "scrolled": false
   },
   "outputs": [
    {
     "data": {
      "image/png": "[encoded data removed]",
      "text/plain": [
       "<matplotlib.figure.Figure at 0x10d6ff450>"
      ]
     },
     "metadata": {},
     "output_type": "display_data"
    }
   ],
   "source": [
    "# define figure properties\n",
    "sns.set_style('white')\n",
    "sns.set_context('talk')\n",
    "f, ax = plt.subplots(figsize=(20, 22))\n",
    "\n",
    "plt.subplot(321)\n",
    "sns.regplot('Path_Time', 'Sim_Centered', d75_slow)\n",
    "plt.ylabel('Mean Centered Simulation Time')\n",
    "plt.xlabel('Path Time')\n",
    "plt.title('Slow Movement')\n",
    "\n",
    "plt.subplot(322)\n",
    "sns.regplot('Sim_con', 'Sim_Centered', d75_slow, x_estimator=np.mean)\n",
    "plt.ylabel('Mean Centered Simulation Time')\n",
    "plt.xlabel('Simulation Confidence')\n",
    "plt.title('Slow Movement')\n",
    "plt.xlim(.5,5.5)\n",
    "\n",
    "plt.subplot(323)\n",
    "sns.regplot('Path_Time', 'Sim_Centered', d75)\n",
    "plt.ylabel('Mean Centered Simulation Time')\n",
    "plt.xlabel('Path Time')\n",
    "plt.title('Medium Movement')\n",
    "\n",
    "plt.subplot(324)\n",
    "sns.regplot('Vividness', 'Sim_Centered', d75)\n",
    "plt.ylabel('Mean Centered Simulation Time')\n",
    "plt.xlabel('Vividness')\n",
    "plt.title('Medium Movement')\n",
    "plt.xlim(.5,5.5)\n",
    "\n",
    "plt.subplot(325)\n",
    "sns.regplot('Path_Time', 'Sim_Centered', d75_fast)\n",
    "plt.ylabel('Mean Centered Simulation Time')\n",
    "plt.xlabel('Path Time')\n",
    "plt.title('Fast Movement')\n",
    "\n",
    "plt.subplot(326)\n",
    "sns.regplot('S_coherence', 'Sim_Centered', d75_fast, x_estimator=np.mean)\n",
    "plt.ylabel('Mean Centered Simulation Time')\n",
    "plt.xlabel('Spatial Coherence')\n",
    "plt.xlim(.5,5.5)\n",
    "plt.title('Fast Movement');"
   ]
  },
  {
   "cell_type": "markdown",
   "metadata": {},
   "source": [
    "####Figure 14. Plots showing relationship between predictors and simulation time for each movement condition"
   ]
  },
  {
   "cell_type": "code",
   "execution_count": null,
   "metadata": {
    "collapsed": true
   },
   "outputs": [],
   "source": []
  }
 ],
 "metadata": {
  "kernelspec": {
   "display_name": "Python 2",
   "language": "python",
   "name": "python2"
  },
  "language_info": {
   "codemirror_mode": {
    "name": "ipython",
    "version": 2
   },
   "file_extension": ".py",
   "mimetype": "text/x-python",
   "name": "python",
   "nbconvert_exporter": "python",
   "pygments_lexer": "ipython2",
   "version": "2.7.10"
  }
 },
 "nbformat": 4,
 "nbformat_minor": 0
}
